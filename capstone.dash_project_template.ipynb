{
 "cells": [
  {
   "cell_type": "markdown",
   "metadata": {
    "colab_type": "text",
    "id": "2d1U4XaLeT7k"
   },
   "source": [
    "# Dash Project Template"
   ]
  },
  {
   "cell_type": "code",
   "execution_count": 1,
   "metadata": {},
   "outputs": [],
   "source": [
    "from dash import Dash, callback, html, dcc, dash_table, Input, Output, State, MATCH, ALL"
   ]
  },
  {
   "cell_type": "code",
   "execution_count": 2,
   "metadata": {},
   "outputs": [],
   "source": [
    "import dash_labs as dl"
   ]
  },
  {
   "cell_type": "code",
   "execution_count": 3,
   "metadata": {},
   "outputs": [],
   "source": [
    "import dash_bootstrap_components as dbc"
   ]
  },
  {
   "cell_type": "code",
   "execution_count": 4,
   "metadata": {},
   "outputs": [],
   "source": [
    "from IPython.display import HTML\n",
    "import os\n",
    "\n",
    "workspace_user = os.getenv('JUPYTERHUB_USER')  # Get DS4A Workspace user name"
   ]
  },
  {
   "cell_type": "markdown",
   "metadata": {
    "tags": [
     "3_min"
    ]
   },
   "source": [
    "## Goals\n",
    "In previous cases, we learn the fundamentals of Dash and its essential parts, layouts, and callbacks. After this case, you will understand how to organize a complete application with Dash - Plotly.\n",
    "\n",
    "This template uses libraries and methods to deploy a multipage and bootstrap application."
   ]
  },
  {
   "cell_type": "markdown",
   "metadata": {
    "tags": [
     "3_min"
    ]
   },
   "source": [
    "## Introduction\n",
    "\n",
    "We will follow all our development using Jupyter lab as our script editor. To use it in the workspace, you need to add **/lab?** to the end of the URL of the DS4A workspace. If you are not using Jupyter Lab, run the following cell to get the URL for your workspace.\n"
   ]
  },
  {
   "cell_type": "code",
   "execution_count": null,
   "metadata": {},
   "outputs": [],
   "source": [
    "if workspace_user:\n",
    "    dash_app_url = \"https://workspace.ds4a.com/user/\" + workspace_user + \"/lab?\"\n",
    "\n",
    "    display(\n",
    "    HTML('<h2 style=\"background-color:Yellow;text-align:center\"><a href=\"' + dash_app_url +\n",
    "         '\" target=\"_blank\">Click here to access your Jupyter Lab!</a></h2>'))\n",
    "else:    \n",
    "    display(HTML('<h2 style=\"text-align:center\"><a href=\"localhost:8888/lab\" target=\"_blank\">Click here to access your Jupyter Lab!</a></h2>'))"
   ]
  },
  {
   "cell_type": "markdown",
   "metadata": {
    "tags": [
     "3_min"
    ]
   },
   "source": [
    "## Basic elements\n",
    "\n",
    "To build a complete application using Dash, we need to include some concepts:\n",
    "\n",
    "- Multipage application: A Dash web application with several pages for navigation.\n",
    "\n",
    "- Dash Labs: Some experimental options of Dash that will be released in plotly-dash and will be available in the future as plugins.\n",
    "\n",
    "- Bootstrap: a framework for designing and building web pages that adjust their components according to page width and some predefined styles with CSS.\n",
    "\n",
    "\n"
   ]
  },
  {
   "cell_type": "markdown",
   "metadata": {
    "tags": [
     "3_min"
    ]
   },
   "source": [
    "## Structure\n",
    "\n",
    "Our basic structure in the application will have some folders and files to organize our web application. Our first step is to build our folder structure.\n",
    "\n",
    "   - app.py with our main application calls.\n",
    "   - callbacks.py (main callbacks used by the application)\n",
    "   - assets (this folder, will contain all custom css, javascript and images files)\n",
    "   - components (customized implementations of dash core components)\n",
    "   - data (sample data to interact with the application)\n",
    "   - pages (navigation options available for the user)\n",
    "   - requirements.txt (python dependencies)\n",
    "\n"
   ]
  },
  {
   "cell_type": "markdown",
   "metadata": {},
   "source": [
    "### Exercise 1\n",
    "\n",
    "Build the structure for the application, including the following folders\n",
    "\n",
    "```\n",
    "-- project\n",
    "   |-- assets\n",
    "   |-- components\n",
    "       |-- kpi\n",
    "       |-- maps\n",
    "   |-- data\n",
    "       |-- dfsample\n",
    "       |-- jsonmaps\n",
    "   |-- pages\n",
    " ```"
   ]
  },
  {
   "cell_type": "markdown",
   "metadata": {},
   "source": [
    "---"
   ]
  },
  {
   "cell_type": "markdown",
   "metadata": {
    "tags": []
   },
   "source": [
    "### App.py "
   ]
  },
  {
   "cell_type": "markdown",
   "metadata": {},
   "source": [
    "App.py is our main file and the core of all our applications; however, the main goal of this file is to call out all the application functionalities; the app.py itself doesn't have all the code.\n",
    "\n",
    "There are seven sections in this file; let's review each of them:\n",
    "\n",
    "- **Libraries**: section all imports required for proper configuration of the dash\n",
    "- **Dash instance**: method to create the Dash application\n",
    "- **Top menu**: All the navigation options to deliver consistency in UX(User experience)\n",
    "- **Main Layout**: Minimal container distribution and menu here with the multipage plugin; we will include our content.\n",
    "- **Callback register**: A custom call to our callback.py file to insert all the callbacks of our application and to keep organized all the interactions functions in one file\n",
    "- **Server variable**: This variable will be used with Gunicorn in the future to deploy our application in production mode.\n",
    "- **Testing server**: Dash test server to debug until our application is ready\n",
    "\n"
   ]
  },
  {
   "cell_type": "markdown",
   "metadata": {},
   "source": [
    "\n",
    "```python\n",
    "#libraries\n",
    "import dash\n",
    "import dash_labs as dl\n",
    "import dash_bootstrap_components as dbc\n",
    "import os\n",
    "#from callbacks import register_callbacks\n",
    "\n",
    "\n",
    "request_path_prefix = None\n",
    "\n",
    "#only for workspace in DS4A\n",
    "workspace_user = os.getenv('JUPYTERHUB_USER')  # Get DS4A Workspace user name\n",
    "if workspace_user:\n",
    "    request_path_prefix = '/user/' + workspace_user + '/proxy/8050/'\n",
    "\n",
    "    \n",
    "# Dash instance declaration\n",
    "app = dash.Dash(__name__, plugins=[dl.plugins.pages], requests_pathname_prefix=request_path_prefix, external_stylesheets=[dbc.themes.FLATLY],)\n",
    "\n",
    "\n",
    "\n",
    "#Top menu, items get from all pages registered with plugin.pages\n",
    "navbar = dbc.NavbarSimple([\n",
    "\n",
    "    dbc.NavItem(dbc.NavLink( \"Inicio\", href=request_path_prefix)),\n",
    "    dbc.DropdownMenu(\n",
    "        [\n",
    "            \n",
    "            dbc.DropdownMenuItem(page[\"name\"], href=request_path_prefix+page[\"path\"])\n",
    "            for page in dash.page_registry.values()\n",
    "            if page[\"module\"] != \"pages.not_found_404\"\n",
    "        ],\n",
    "        nav=True,\n",
    "        label=\"Data Science\",\n",
    "    ),\n",
    "    dbc.NavItem(dbc.NavLink(\"Nosotros\", href=request_path_prefix+\"/nosotros\")),\n",
    "    ],\n",
    "    brand=\"DS4A Project - Team 300\",\n",
    "    color=\"primary\",\n",
    "    dark=True,\n",
    "    className=\"mb-2\",\n",
    ")\n",
    "\n",
    "#Main layout\n",
    "app.layout = dbc.Container(\n",
    "    [\n",
    "        navbar,\n",
    "        dl.plugins.page_container,\n",
    "    ],\n",
    "    className=\"dbc\",\n",
    "    fluid=True,\n",
    ")\n",
    "\n",
    "# Call to external function to register all callbacks\n",
    "#register_callbacks(app)\n",
    "\n",
    "\n",
    "# This call will be used with Gunicorn server\n",
    "server = app.server\n",
    "\n",
    "# Testing server, don't use in production, host\n",
    "if __name__ == \"__main__\":\n",
    "    app.run_server(host='0.0.0.0', port=8050, debug=True)\n",
    "```"
   ]
  },
  {
   "cell_type": "markdown",
   "metadata": {},
   "source": [
    "### Exercise 2\n",
    "\n",
    "Create a file called **app.py** in the root folder **project** and copy the code previously presented."
   ]
  },
  {
   "cell_type": "markdown",
   "metadata": {},
   "source": [
    "----"
   ]
  },
  {
   "cell_type": "markdown",
   "metadata": {
    "tags": []
   },
   "source": [
    "## Pages"
   ]
  },
  {
   "cell_type": "markdown",
   "metadata": {},
   "source": [
    "One of our goals is to build a multipage application; one of the reasons is to keep organized all our code, but also to prevent some performance issues trying to show too much information or cluttering the page with excessive detail.\n",
    "\n",
    "To achieve this well-organized application, we will use, in this case, an experimental dash library called dash-labs and the plugin pages.\n",
    "\n",
    "Each file in this folder will have a specific goal for the user interface, with their interactions and visual components.\n",
    "\n",
    "\n",
    "```\n",
    "-- project\n",
    "   |-- pages\n",
    "       |-- home.py\n",
    "       |-- predictions.py\n",
    "       |-- basicpage.py\n",
    "```\n",
    "\n",
    "Let's review one basic page file\n",
    "\n",
    "- **libraries:**  All dash core and HTML components used to display on the page.\n",
    "- **dash-lab plugin:** This Is the way to tell our main **app.py**, that use this page with some specific menu name and a route URL.\n",
    "- **components:** Throughout our entire application, the idea is to optimize coding; sometimes, we need the same visual behaviour just with a change of information, for example, the same barplot with title and description, just with a different dataset. \n",
    "- **specific layout:** each page have its layout(distribution of graphic and interaction components, labels and HTML text)"
   ]
  },
  {
   "cell_type": "markdown",
   "metadata": {},
   "source": [
    "```python\n",
    "#libraries\n",
    "import dash\n",
    "from dash import Dash, html , dcc\n",
    "import dash_bootstrap_components as dbc\n",
    "from dash_labs.plugins import register_page\n",
    "\n",
    "    \n",
    "# dash-labs plugin call, menu name and route\n",
    "register_page(__name__, path='/basicpage')\n",
    "\n",
    "from components.maps.mapsample import mapsample\n",
    "\n",
    "mapa_ejemplo = mapsample('This is my custom map', 'div_samplemap')\n",
    "\n",
    "# specific layout for this page\n",
    "layout = dbc.Container(\n",
    "    [\n",
    "        dbc.Row([\n",
    "            dbc.Col([\n",
    "                 html.H1(['Page Title'],id=\"div_title_maps\"),\n",
    "                 mapa_ejemplo.display()\n",
    "\n",
    "            ], lg=12), \n",
    "           \n",
    "        ]),\n",
    "        ]\n",
    ")  \n",
    "\n",
    "```"
   ]
  },
  {
   "cell_type": "markdown",
   "metadata": {},
   "source": [
    "### Exercise 3\n",
    "\n",
    "Create a file called **basicpage.py**  **inside the pages folder** and copy the code previously presented. "
   ]
  },
  {
   "cell_type": "markdown",
   "metadata": {},
   "source": [
    "---"
   ]
  },
  {
   "cell_type": "markdown",
   "metadata": {
    "tags": []
   },
   "source": [
    "## Components"
   ]
  },
  {
   "cell_type": "markdown",
   "metadata": {},
   "source": [
    "Dash plotly comes with many options to build the web application; these are available by importing dash-core-components and dash-bootstrap-components; you will have predefine pieces of code like dropdowns list, graph elements like maps, barplot or scatterplot.\n",
    "\n",
    "Dash components are small pieces to build our entire application; however, we need other behaviours that suit our design and fit with the user interface.\n",
    "\n",
    "To obtain that visual appeal, we will build some python classes based on dash components that receive our data and parameters and return s all the layout with bootstrap. "
   ]
  },
  {
   "cell_type": "markdown",
   "metadata": {},
   "source": [
    "### Component KPI - kpibadge.py"
   ]
  },
  {
   "cell_type": "markdown",
   "metadata": {
    "tags": []
   },
   "source": [
    "Despite our data science processes using massive datasets, we eventually need to present histograms or maps with information to aggregate some information. However, It is helpful to show some KPIs (Key Performance Indicators) that consolidate valuable information like total transactions, total users or total records for a given variable.\n",
    "\n",
    "In this example, you find a sample layout for a class component that will receive three parameters when the instance is created.\n",
    "\n",
    "- kip: es the number of the KPI\n",
    "- label: a minimal label that shows the user the name of the KPI\n",
    "- badgetype: in this case, our KPI has a colour indicator associated with the value."
   ]
  },
  {
   "cell_type": "markdown",
   "metadata": {},
   "source": [
    "```python\n",
    "from dash import html \n",
    "\n",
    "\n",
    "import dash_bootstrap_components as dbc\n",
    "\n",
    "class kpibadge:\n",
    "    def __init__(self,kpi,label, badgetype):\n",
    "        self.kpi = kpi\n",
    "        self.label = label\n",
    "        self.badgetype = badgetype\n",
    "        if badgetype=='Danger':\n",
    "            self.color = \"danger\"\n",
    "        else:\n",
    "             self.color = \"success\"\n",
    "\n",
    "    def display(self):\n",
    "        layout = html.Div(\n",
    "            [\n",
    "             html.Div(self.label,className='h6'),\n",
    "             html.H2(self.kpi,className='d-flex justify-content-end'),\n",
    "             dbc.Badge(self.badgetype, color=self.color, className=\"mr-1\"),\n",
    "            ], className='m-2'\n",
    "        )\n",
    "        return layout\n",
    "  \n",
    "```"
   ]
  },
  {
   "cell_type": "markdown",
   "metadata": {},
   "source": [
    "### Exercise 4\n",
    "Create a file called **kpibadge.py** **inside the components/kpi folder** and copy the code previously presented."
   ]
  },
  {
   "cell_type": "markdown",
   "metadata": {},
   "source": [
    "---"
   ]
  },
  {
   "cell_type": "markdown",
   "metadata": {},
   "source": [
    "### Component Maps - mapsample.py"
   ]
  },
  {
   "cell_type": "markdown",
   "metadata": {},
   "source": [
    "One of the best ways to present information is with maps, this sample uses the data available in plotly express of Montreal elections in 2013. Our class let us show an entire map inside HTML.Div with other options like a map title."
   ]
  },
  {
   "cell_type": "markdown",
   "metadata": {},
   "source": [
    "```python\n",
    "from dash import html , dcc\n",
    "import plotly.express as px\n",
    "\n",
    "\n",
    "class mapsample:    \n",
    "    \"\"\"A class to represent a samplemap of Montreal Elections\"\"\"        \n",
    "    def __init__(self,map_title:str,ID:str):\n",
    "        \"\"\"__init__\n",
    "        Construct all the attributes for the sample map\n",
    "     \n",
    "        Args:\n",
    "            map_title (str): _Title for the map_\n",
    "            ID (str): _div id to specify unique #id with callbacks and css_\n",
    "        \n",
    "        Methods:\n",
    "\n",
    "        display()\n",
    "            Function to display a sample map with no arguments, uses plotly express data.\n",
    "            \n",
    "            Arguments:\n",
    "                None\n",
    "\n",
    "            Returns:\n",
    "                html.Div : A Div container with a dash core component dcc.Graph() inside\n",
    "        \"\"\"\n",
    "        \n",
    "        self.map_title = map_title\n",
    "        self.id = ID\n",
    "\n",
    "    @staticmethod\n",
    "    def figura():\n",
    "         \n",
    "        df = px.data.election() # replace with your own data source\n",
    "        geojson = px.data.election_geojson()\n",
    "        fig = px.choropleth(\n",
    "             df, geojson=geojson, color=\"Bergeron\",\n",
    "             locations=\"district\", featureidkey=\"properties.district\",\n",
    "             projection=\"mercator\"                 \n",
    "            )\n",
    "        fig.update_geos(fitbounds=\"locations\", visible=False)\n",
    "        fig.update_layout(margin={\"r\":0,\"t\":0,\"l\":0,\"b\":0})\n",
    "        return fig\n",
    "\n",
    "    def display(self):\n",
    "       \n",
    "        layout = html.Div(\n",
    "            [\n",
    "                html.H4([self.map_title]),\n",
    "                html.Div([\n",
    "                    dcc.Graph(figure=self.figura())\n",
    "                ])\n",
    "                \n",
    "            ],id=self.id\n",
    "        )\n",
    "        return layout\n",
    "```"
   ]
  },
  {
   "cell_type": "markdown",
   "metadata": {},
   "source": [
    "### Exercise 5\n",
    "Create a file called **mapsample.py** **inside the components/maps folder** and copy the code previously presented."
   ]
  },
  {
   "cell_type": "markdown",
   "metadata": {},
   "source": [
    "---"
   ]
  },
  {
   "cell_type": "markdown",
   "metadata": {
    "tags": []
   },
   "source": [
    "## Joining the parts"
   ]
  },
  {
   "cell_type": "markdown",
   "metadata": {},
   "source": [
    "Now we have all the parts to build our data science web application; folder structure, app.py file with dash lab plugin to handle multipage features, a basic page layout and two unique components (kpibadge and mapsample). \n",
    "\n",
    "Before our final step, we will define our home page, including the previously built components and some specific python files as a good practice in our application.\n"
   ]
  },
  {
   "cell_type": "markdown",
   "metadata": {},
   "source": [
    "### Home Page - home.py\n",
    "\n",
    "When our user enters to the web application we will show a dashboard with several components, four kpi in the top and one map below. "
   ]
  },
  {
   "cell_type": "markdown",
   "metadata": {},
   "source": [
    "```python\n",
    "import dash\n",
    "from dash import html , dcc\n",
    "import dash_bootstrap_components as dbc\n",
    "from dash_labs.plugins import register_page\n",
    "\n",
    "\n",
    "register_page(__name__, path=\"/\")\n",
    "\n",
    "from components.kpi.kpibadge import kpibadge\n",
    "from components.maps.mapsample import mapsample\n",
    "\n",
    "\n",
    "kpi1 = kpibadge('325', 'Total kpi', 'Danger')\n",
    "kpi2 = kpibadge('1500', 'Total sales', 'Approved')\n",
    "kpi3 = kpibadge('325', 'Total transacciones', 'Approved')\n",
    "kpi4 = kpibadge('2122','Total User', 'Danger')\n",
    "\n",
    "mapa_ejemplo = mapsample('Mapa de ejemplo', 'id_mapa_ejemplo')\n",
    "\n",
    "layout=  dbc.Container(\n",
    "    [\n",
    "        dbc.Row([\n",
    "            dbc.Col([\n",
    "                kpi1.display()\n",
    "            ], className='card'),\n",
    "            dbc.Col([\n",
    "                kpi2.display()\n",
    "            ], className='card'),\n",
    "            dbc.Col([\n",
    "                kpi3.display()\n",
    "            ], className='card'),\n",
    "            dbc.Col([\n",
    "                kpi4.display()\n",
    "            ], className='card')\n",
    "        ]),\n",
    "        dbc.Row([\n",
    "            dbc.Col([\n",
    "                mapa_ejemplo.display()\n",
    "            ], xs=12, className='card'),            \n",
    "        ]),     \n",
    "    ]\n",
    ")  \n",
    "\n",
    "```"
   ]
  },
  {
   "cell_type": "markdown",
   "metadata": {},
   "source": [
    "### Excercise 6\n",
    "\n",
    "Create a file called **home.py** **inside the pages folder** and copy the code previously presented."
   ]
  },
  {
   "cell_type": "markdown",
   "metadata": {},
   "source": [
    "---"
   ]
  },
  {
   "cell_type": "markdown",
   "metadata": {},
   "source": [
    "To ensure that our components will be properly imported in each page, we need to add some final files."
   ]
  },
  {
   "cell_type": "markdown",
   "metadata": {},
   "source": [
    "### Exercise 7\n",
    "Create an **empty python file** called `__init__.py` in each folder of **components** and **pages**; your file structure will look similar to this:\n",
    "\n",
    "```\n",
    "-- Project\n",
    "   |-- components\n",
    "       |-- __init__.py\n",
    "       |-- kpi\n",
    "           |-- __init__.py\n",
    "           |-- kpibadge.py\n",
    "       |-- maps\n",
    "           |-- __init__.py\n",
    "           |-- mapsample.py\n",
    "   |--pages\n",
    "      |-- __init__.py\n",
    "```       "
   ]
  },
  {
   "cell_type": "markdown",
   "metadata": {},
   "source": [
    "Finally we need to style our layout, in general we can use boostrap 5 styles, however for some specific visual details we need to add a css file with custom options.\n"
   ]
  },
  {
   "cell_type": "markdown",
   "metadata": {},
   "source": [
    "### Exercise 8\n",
    "\n",
    "Create a file called **styles.css** inside the folder **assets** and  copy the following styles.\n",
    "\n",
    "```css\n",
    "\n",
    "\n",
    ".card {\n",
    "    #min-height:100px;\n",
    "    border-width: 0;\n",
    "    border-radius: 2px;\n",
    "    box-shadow: 0 0 5px rgba(28, 39, 60, 0.1);\n",
    "    padding: 1rem;\n",
    "    margin: 0.5rem;\n",
    "    margin-bottom: 1.5rem;\n",
    "\n",
    "\n",
    "}\n",
    "```\n",
    "\n"
   ]
  },
  {
   "cell_type": "markdown",
   "metadata": {},
   "source": [
    "## Callbacks\n",
    "\n",
    "Probably one of the most special features of Dash-plotly is the capacity to create interactions for the user in a simple way using python that render react components.\n",
    "\n",
    "In our final file, there is a page that include a Callback, notice that you can use @callback inside this page to register the callbacks for this layout, you don't need to write callback in just one single file. "
   ]
  },
  {
   "cell_type": "markdown",
   "metadata": {},
   "source": [
    "```python\n",
    "import dash\n",
    "from dash_labs.plugins import register_page\n",
    "\n",
    "register_page(__name__, path=\"/heatmaps\")\n",
    "\n",
    "from dash import Dash, dcc, html, Input, Output, callback\n",
    "import plotly.express as px\n",
    "\n",
    "df = px.data.medals_wide(indexed=True)\n",
    "\n",
    "layout = html.Div(\n",
    "    [\n",
    "        html.P(\"Medals included:\"),\n",
    "        dcc.Dropdown(\n",
    "                    id=\"heatmaps-medals\",\n",
    "                    options=[\n",
    "                        {\"label\": \"GOLD\", \"value\": \"gold\"},\n",
    "                        {\"label\": \"SILVER\", \"value\": \"silver\"},\n",
    "                        {\"label\": \"BRONZE\", \"value\": \"bronze\"},\n",
    "                    ],\n",
    "                    value=['gold', 'silver', 'bronze'],\n",
    "                    multi = True\n",
    "                ),\n",
    "        dcc.Graph(id=\"heatmaps-graph\"),\n",
    "    ], className='card'\n",
    ")\n",
    "\n",
    "@callback(\n",
    "    Output(\"heatmaps-graph\", \"figure\"), \n",
    "    Input(\"heatmaps-medals\", \"value\"))\n",
    "def filter_heatmap(cols):\n",
    "    fig = px.imshow(df[cols])\n",
    "    return fig\n",
    "\n",
    "```"
   ]
  },
  {
   "cell_type": "markdown",
   "metadata": {
    "jp-MarkdownHeadingCollapsed": true,
    "tags": []
   },
   "source": [
    "### Exercise 9\n",
    "Create a file called **heatmaps.py** inside the **folder pages** and copy the previous code.\n"
   ]
  },
  {
   "cell_type": "markdown",
   "metadata": {},
   "source": [
    "References:\n",
    "- [Mutipage application with dash labs](https://github.com/plotly/dash-labs/blob/main/docs/demos/multi_page_example1/app.py)\n",
    "\n"
   ]
  },
  {
   "cell_type": "markdown",
   "metadata": {},
   "source": [
    "### Exercise 10\n",
    "\n",
    "Finally, let's run our web application, \n",
    "\n",
    "1. Open a new **terminal** in Jupyter Lab\n",
    "2. Navigate to the project directory `cd <PATHDIR>` \n",
    "3. Run `python app.py`\n",
    "\n",
    "Notes. \n",
    "\n",
    "- Be sure you did install the requirements dependencies with `pip install -r requeriments.txt` for this case.\n",
    "\n",
    "- In some cases python cache files `__pycache__` can generate some errors when running the web application, if this errors shows up `ModuleNotFoundError: No module named 'pages.'` clean all cache files running this command **inside your project folder**\n",
    "\n",
    "```shell\n",
    "find . | grep -E \"(.ipynb_checkpoints$|\\.pyc$|\\.pyo$)\" | xargs rm -rf && find . | grep -E \"(/__pycache__$|\\.pyc$|\\.pyo$)\" | xargs rm -rf\n",
    "```\n"
   ]
  },
  {
   "cell_type": "markdown",
   "metadata": {
    "jp-MarkdownHeadingCollapsed": true,
    "tags": [
     "5_min"
    ]
   },
   "source": [
    "## Takeaways\n",
    "\n",
    "You have learned how to build an entire application with Dash-plotly. This process showed a detailed structure, you need to consider other elements that suit your needs.\n",
    "\n",
    "\n",
    "- Cache optimization, some callbacks or functions can demand a lot of computing resources, if you deal with information that doesn't change to much for some graphs or tables, take a look to flask caching to improve the performance of your application. [click here for more information](https://dash.plotly.com/performance).\n",
    "\n",
    "- Remember to use servers like Gunicorn in production, not the testing server of Dash, this server doen't handle several request in optimal way. \n",
    "\n",
    "- Some additional security needs to be implemented on Dash to avoid unauthorized access to your dashboard and information. A basic way to do it is to include `auth = dash_auth.BasicAuth(app,USERNAMEINFO)` [click here for more information](https://dash.plotly.com/authentication)\n",
    "\n",
    "Additional references to improve your deployment:\n",
    "- [How To Serve Flask Applications with Gunicorn and Nginx on Ubuntu 20.04](https://www.digitalocean.com/community/tutorials/how-to-serve-flask-applications-with-gunicorn-and-nginx-on-ubuntu-20-04)\n"
   ]
  },
  {
   "cell_type": "code",
   "execution_count": null,
   "metadata": {},
   "outputs": [],
   "source": []
  }
 ],
 "metadata": {
  "c1_recart": "6.9.0-57c20131aabc1dc2a8c675852d80a7da",
  "kernelspec": {
   "display_name": "Python 3 (ipykernel)",
   "language": "python",
   "name": "python3"
  },
  "language_info": {
   "codemirror_mode": {
    "name": "ipython",
    "version": 3
   },
   "file_extension": ".py",
   "mimetype": "text/x-python",
   "name": "python",
   "nbconvert_exporter": "python",
   "pygments_lexer": "ipython3",
   "version": "3.9.12"
  },
  "varInspector": {
   "cols": {
    "lenName": 16,
    "lenType": 16,
    "lenVar": 40
   },
   "kernels_config": {
    "python": {
     "delete_cmd_postfix": "",
     "delete_cmd_prefix": "del ",
     "library": "var_list.py",
     "varRefreshCmd": "print(var_dic_list())"
    },
    "r": {
     "delete_cmd_postfix": ") ",
     "delete_cmd_prefix": "rm(",
     "library": "var_list.r",
     "varRefreshCmd": "cat(var_dic_list()) "
    }
   },
   "types_to_exclude": [
    "module",
    "function",
    "builtin_function_or_method",
    "instance",
    "_Feature"
   ],
   "window_display": false
  },
  "vscode": {
   "interpreter": {
    "hash": "bd1217a7da1c6a5c885965be3a057cefb1219a10b9bd78072483094b716af192"
   }
  }
 },
 "nbformat": 4,
 "nbformat_minor": 4
}
