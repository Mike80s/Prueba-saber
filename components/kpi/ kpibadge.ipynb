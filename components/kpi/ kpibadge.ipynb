{
 "cells": [
  {
   "cell_type": "code",
   "execution_count": null,
   "id": "476ad937",
   "metadata": {},
   "outputs": [],
   "source": [
    "from dash import html \n",
    "\n",
    "\n",
    "import dash_bootstrap_components as dbc\n",
    "\n",
    "class kpibadge:\n",
    "    def __init__(self,kpi,label, badgetype):\n",
    "        self.kpi = kpi\n",
    "        self.label = label\n",
    "        self.badgetype = badgetype\n",
    "        if badgetype=='Danger':\n",
    "            self.color = \"danger\"\n",
    "        else:\n",
    "             self.color = \"success\"\n",
    "\n",
    "    def display(self):\n",
    "        layout = html.Div(\n",
    "            [\n",
    "             html.Div(self.label,className='h6'),\n",
    "             html.H2(self.kpi,className='d-flex justify-content-end'),\n",
    "             dbc.Badge(self.badgetype, color=self.color, className=\"mr-1\"),\n",
    "            ], className='m-2'\n",
    "        )\n",
    "        return layout"
   ]
  }
 ],
 "metadata": {
  "kernelspec": {
   "display_name": "Python 3 (ipykernel)",
   "language": "python",
   "name": "python3"
  },
  "language_info": {
   "codemirror_mode": {
    "name": "ipython",
    "version": 3
   },
   "file_extension": ".py",
   "mimetype": "text/x-python",
   "name": "python",
   "nbconvert_exporter": "python",
   "pygments_lexer": "ipython3",
   "version": "3.9.12"
  }
 },
 "nbformat": 4,
 "nbformat_minor": 5
}
