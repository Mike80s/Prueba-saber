{
 "cells": [
  {
   "cell_type": "code",
   "execution_count": null,
   "id": "9e43ccda",
   "metadata": {},
   "outputs": [],
   "source": [
    "from dash import html , dcc\n",
    "import plotly.express as px\n",
    "\n",
    "\n",
    "class mapsample:    \n",
    "    \"\"\"A class to represent a samplemap of Montreal Elections\"\"\"        \n",
    "    def __init__(self,map_title:str,ID:str):\n",
    "        \"\"\"__init__\n",
    "        Construct all the attributes for the sample map\n",
    "\n",
    "        Args:\n",
    "            map_title (str): _Title for the map_\n",
    "            ID (str): _div id to specify unique #id with callbacks and css_\n",
    "\n",
    "        Methods:\n",
    "\n",
    "        display()\n",
    "            Function to display a sample map with no arguments, uses plotly express data.\n",
    "\n",
    "            Arguments:\n",
    "                None\n",
    "\n",
    "            Returns:\n",
    "                html.Div : A Div container with a dash core component dcc.Graph() inside\n",
    "        \"\"\"\n",
    "\n",
    "        self.map_title = map_title\n",
    "        self.id = ID\n",
    "\n",
    "    @staticmethod\n",
    "    def figura():\n",
    "\n",
    "        df = px.data.election() # replace with your own data source\n",
    "        geojson = px.data.election_geojson()\n",
    "        fig = px.choropleth(\n",
    "             df, geojson=geojson, color=\"Bergeron\",\n",
    "             locations=\"district\", featureidkey=\"properties.district\",\n",
    "             projection=\"mercator\"                 \n",
    "            )\n",
    "        fig.update_geos(fitbounds=\"locations\", visible=False)\n",
    "        fig.update_layout(margin={\"r\":0,\"t\":0,\"l\":0,\"b\":0})\n",
    "        return fig\n",
    "\n",
    "    def display(self):\n",
    "\n",
    "        layout = html.Div(\n",
    "            [\n",
    "                html.H4([self.map_title]),\n",
    "                html.Div([\n",
    "                    dcc.Graph(figure=self.figura())\n",
    "                ])\n",
    "\n",
    "            ],id=self.id\n",
    "        )\n",
    "        return layout"
   ]
  }
 ],
 "metadata": {
  "kernelspec": {
   "display_name": "Python 3 (ipykernel)",
   "language": "python",
   "name": "python3"
  },
  "language_info": {
   "codemirror_mode": {
    "name": "ipython",
    "version": 3
   },
   "file_extension": ".py",
   "mimetype": "text/x-python",
   "name": "python",
   "nbconvert_exporter": "python",
   "pygments_lexer": "ipython3",
   "version": "3.9.12"
  }
 },
 "nbformat": 4,
 "nbformat_minor": 5
}
