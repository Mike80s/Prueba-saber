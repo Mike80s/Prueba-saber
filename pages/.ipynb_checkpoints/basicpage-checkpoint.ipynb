{
 "cells": [
  {
   "cell_type": "code",
   "execution_count": null,
   "id": "0625de5a",
   "metadata": {},
   "outputs": [],
   "source": [
    "import dash\n",
    "from dash import Dash, html , dcc\n",
    "import dash_bootstrap_components as dbc\n",
    "from dash_labs.plugins import register_page\n",
    "\n",
    "\n",
    "# dash-labs plugin call, menu name and route\n",
    "register_page(__name__, path='/basicpage')\n",
    "\n",
    "from components.maps.mapsample import mapsample\n",
    "\n",
    "mapa_ejemplo = mapsample('This is my custom map', 'div_samplemap')\n",
    "\n",
    "# specific layout for this page\n",
    "layout = dbc.Container(\n",
    "    [\n",
    "        dbc.Row([\n",
    "            dbc.Col([\n",
    "                 html.H1(['Page Title'],id=\"div_title_maps\"),\n",
    "                 mapa_ejemplo.display()\n",
    "\n",
    "            ], lg=12), \n",
    "\n",
    "        ]),\n",
    "        ]\n",
    ")  "
   ]
  }
 ],
 "metadata": {
  "kernelspec": {
   "display_name": "Python 3 (ipykernel)",
   "language": "python",
   "name": "python3"
  },
  "language_info": {
   "codemirror_mode": {
    "name": "ipython",
    "version": 3
   },
   "file_extension": ".py",
   "mimetype": "text/x-python",
   "name": "python",
   "nbconvert_exporter": "python",
   "pygments_lexer": "ipython3",
   "version": "3.9.12"
  }
 },
 "nbformat": 4,
 "nbformat_minor": 5
}
