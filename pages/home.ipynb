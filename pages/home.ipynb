{
 "cells": [
  {
   "cell_type": "code",
   "execution_count": null,
   "id": "49f93e44",
   "metadata": {},
   "outputs": [],
   "source": [
    "import dash\n",
    "from dash import html , dcc\n",
    "import dash_bootstrap_components as dbc\n",
    "from dash_labs.plugins import register_page\n",
    "\n",
    "\n",
    "register_page(__name__, path=\"/\")\n",
    "\n",
    "from components.kpi.kpibadge import kpibadge\n",
    "from components.maps.mapsample import mapsample\n",
    "\n",
    "\n",
    "kpi1 = kpibadge('325', 'Total kpi', 'Danger')\n",
    "kpi2 = kpibadge('1500', 'Total sales', 'Approved')\n",
    "kpi3 = kpibadge('325', 'Total transacciones', 'Approved')\n",
    "kpi4 = kpibadge('2122','Total User', 'Danger')\n",
    "\n",
    "mapa_ejemplo = mapsample('Mapa de ejemplo', 'id_mapa_ejemplo')\n",
    "\n",
    "layout=  dbc.Container(\n",
    "    [\n",
    "        dbc.Row([\n",
    "            dbc.Col([\n",
    "                kpi1.display()\n",
    "            ], className='card'),\n",
    "            dbc.Col([\n",
    "                kpi2.display()\n",
    "            ], className='card'),\n",
    "            dbc.Col([\n",
    "                kpi3.display()\n",
    "            ], className='card'),\n",
    "            dbc.Col([\n",
    "                kpi4.display()\n",
    "            ], className='card')\n",
    "        ]),\n",
    "        dbc.Row([\n",
    "            dbc.Col([\n",
    "                mapa_ejemplo.display()\n",
    "            ], xs=12, className='card'),            \n",
    "        ]),     \n",
    "    ]\n",
    ")  "
   ]
  }
 ],
 "metadata": {
  "kernelspec": {
   "display_name": "Python 3 (ipykernel)",
   "language": "python",
   "name": "python3"
  },
  "language_info": {
   "codemirror_mode": {
    "name": "ipython",
    "version": 3
   },
   "file_extension": ".py",
   "mimetype": "text/x-python",
   "name": "python",
   "nbconvert_exporter": "python",
   "pygments_lexer": "ipython3",
   "version": "3.9.12"
  }
 },
 "nbformat": 4,
 "nbformat_minor": 5
}
